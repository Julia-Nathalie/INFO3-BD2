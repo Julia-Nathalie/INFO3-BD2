{
  "nbformat": 4,
  "nbformat_minor": 0,
  "metadata": {
    "colab": {
      "provenance": [],
      "authorship_tag": "ABX9TyOjfJAmnsEU+5IlORpWn1Fz",
      "include_colab_link": true
    },
    "kernelspec": {
      "name": "python3",
      "display_name": "Python 3"
    },
    "language_info": {
      "name": "python"
    }
  },
  "cells": [
    {
      "cell_type": "markdown",
      "metadata": {
        "id": "view-in-github",
        "colab_type": "text"
      },
      "source": [
        "<a href=\"https://colab.research.google.com/github/Julia-Nathalie/INFO3-BD2/blob/main/TrabalhoPar1.ipynb\" target=\"_parent\"><img src=\"https://colab.research.google.com/assets/colab-badge.svg\" alt=\"Open In Colab\"/></a>"
      ]
    },
    {
      "cell_type": "code",
      "execution_count": 1,
      "metadata": {
        "id": "hd_8HJ7BbV-0"
      },
      "outputs": [],
      "source": [
        "import sqlite3\n",
        "from sqlite3 import Error\n",
        "\n",
        "## Função de alteração (insert, update, delete...)\n",
        "def execute_query(connection, query):\n",
        "    cursor = connection.cursor()\n",
        "    try:\n",
        "        cursor.execute(query)\n",
        "        connection.commit()\n",
        "        print(f\"Query {query.split('(')[0].strip()} executada.\")\n",
        "        if cursor.rowcount != -1: print(f\"{cursor.rowcount} linha(s) afetadas\")\n",
        "\n",
        "    except Error as e:\n",
        "        print(f\"Erro: '{e}'\")\n",
        "\n",
        "\n",
        "# Função de leitura de dados (select)\n",
        "def execute_read_query(connection, query):\n",
        "    cursor = connection.cursor()\n",
        "    result = None\n",
        "    try:\n",
        "        cursor.execute(query)\n",
        "        result = cursor.fetchall()\n",
        "\n",
        "        return result\n",
        "    except Error as e:\n",
        "        print(f\"Erro: '{e}'\")"
      ]
    },
    {
      "cell_type": "code",
      "source": [
        "connection = sqlite3.connect(\"prisma.sqlite\")\n",
        "\n",
        "query = \"\"\"\n",
        "create Table Turma(\n",
        "  Codigo varchar(10) not null  primary key,\n",
        "  Curso varchar(20) not null,\n",
        "  Periodo int not null\n",
        ");\n",
        "\"\"\"\n",
        "execute_query(connection, query)\n",
        "\n",
        "query = \"\"\"\n",
        "create Table Aluno(\n",
        "  RA varchar(7) not null,\n",
        "  CodigoTurma varchar(10) not null,\n",
        "  Nome text not null,\n",
        "  DataNasc date not null,\n",
        "\n",
        "  primary key(RA, CodigoTurma),\n",
        "  foreign key(CodigoTurma) references Turma(Codigo) on delete restrict\n",
        ");\n",
        "\"\"\"\n",
        "execute_query(connection, query)\n",
        "\n",
        "query = \"\"\"\n",
        "create Table ContatoDoAluno(\n",
        "  RAAluno varchar(7) not null primary key,\n",
        "  contato text not null,\n",
        "\n",
        "  foreign key(RAAluno) references Aluno(RA) on delete cascade\n",
        ");\n",
        "\"\"\"\n",
        "execute_query(connection, query)\n",
        "\n",
        "query = \"\"\"\n",
        "create Table Professor(\n",
        "  ID varchar(8) not null primary key\n",
        ");\n",
        "\"\"\"\n",
        "execute_query(connection, query)\n",
        "\n",
        "query = \"\"\"\n",
        "create Table ContatoDoProfessor(\n",
        "  IDProfessor varchar(8) not null primary key,\n",
        "  contato text not null,\n",
        "\n",
        "  foreign key(IDProfessor) references Professor(ID) on delete cascade\n",
        ");\n",
        "\"\"\"\n",
        "execute_query(connection, query)\n",
        "\n",
        "query = \"\"\"\n",
        "create Table ProfessorLecionaEmTurma(\n",
        "  IDProfessor varchar(8) not null,\n",
        "  CodigoTurma varchar(10) not null,\n",
        "  Disciplina text not null,\n",
        "\n",
        "  primary key(IDProfessor, CodigoTurma),\n",
        "  foreign key(IDProfessor) references Professor(ID) on delete restrict,\n",
        "  foreign key(CodigoTurma) references Turma(Codigo) on delete restrict\n",
        ");\n",
        "\"\"\"\n",
        "execute_query(connection, query)\n",
        "\n",
        "query = \"\"\"\n",
        "create Table Questionario(\n",
        "  NumeroRef integer not null primary key autoincrement\n",
        ");\n",
        "\"\"\"\n",
        "execute_query(connection, query)\n",
        "\n",
        "query = \"\"\"\n",
        "create Table AlunoRespondeQuestionario(\n",
        "  RAAluno varchar(7) not null,\n",
        "  NumeroRefQuestionario integer not null,\n",
        "  DataResposta date not null,\n",
        "\n",
        "  primary key(RAAluno, NumeroRefQuestionario),\n",
        "  foreign key(RAAluno) references Aluno(RA) on delete cascade,\n",
        "  foreign key(NumeroRefQuestionario) references Questionario(NumeroRef) on delete restrict\n",
        ");\n",
        "\"\"\"\n",
        "execute_query(connection, query)\n",
        "\n",
        "query = \"INSERT INTO Turma(Codigo, Curso, Periodo) VALUES ('0123456789', 'Informatica','Primeiro Ano');\"\n",
        "execute_query(connection, query)\n",
        "\n",
        "query = \"INSERT INTO Aluno(RA, CodigoTurma, Nome, DataNasc) VALUES ('0123456', '0123456789', 'Maria Lúcia da Silva Rodrigues', '2006-09-17');\"\n",
        "execute_query(connection, query)\n",
        "\n",
        "query = \"INSERT INTO ContatoDoAluno(RAAluno, contato) VALUES ('0123456','nomedoaluno@gmail.com');\"\n",
        "execute_query(connection, query)\n",
        "\n",
        "query = \"INSERT INTO Professor(ID) VALUES ('6543210');\"\n",
        "execute_query(connection, query)\n",
        "\n",
        "query = \"INSERT INTO ContatoDoProfessor(IDProfessor, contato) VALUES ('6543210','nomeprofessor@gmail.com');\"\n",
        "execute_query(connection, query)\n",
        "\n",
        "query = \"INSERT INTO  ProfessorLecionaEmTurma(IDProfessor, CodigoTurma, Disciplina) VALUES ('6543210','0123456789', 'Banco de Dados');\"\n",
        "execute_query(connection, query)"
      ],
      "metadata": {
        "colab": {
          "base_uri": "https://localhost:8080/"
        },
        "id": "RgyoAMhHb6Ig",
        "outputId": "9f042ed2-596c-4e5c-dbbe-323b4cbf202d"
      },
      "execution_count": 2,
      "outputs": [
        {
          "output_type": "stream",
          "name": "stdout",
          "text": [
            "Query create Table Turma executada.\n",
            "Query create Table Aluno executada.\n",
            "Query create Table ContatoDoAluno executada.\n",
            "Query create Table Professor executada.\n",
            "Query create Table ContatoDoProfessor executada.\n",
            "Query create Table ProfessorLecionaEmTurma executada.\n",
            "Query create Table Questionario executada.\n",
            "Query create Table AlunoRespondeQuestionario executada.\n",
            "Query INSERT INTO Turma executada.\n",
            "1 linha(s) afetadas\n",
            "Query INSERT INTO Aluno executada.\n",
            "1 linha(s) afetadas\n",
            "Query INSERT INTO ContatoDoAluno executada.\n",
            "1 linha(s) afetadas\n",
            "Query INSERT INTO Professor executada.\n",
            "1 linha(s) afetadas\n",
            "Query INSERT INTO ContatoDoProfessor executada.\n",
            "1 linha(s) afetadas\n",
            "Query INSERT INTO  ProfessorLecionaEmTurma executada.\n",
            "1 linha(s) afetadas\n"
          ]
        }
      ]
    },
    {
      "cell_type": "markdown",
      "source": [
        "Contar quantos alunos tem na turma"
      ],
      "metadata": {
        "id": "Y7hoX2FBd8lv"
      }
    }
  ]
}